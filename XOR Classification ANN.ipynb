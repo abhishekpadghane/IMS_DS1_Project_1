{
  "nbformat": 4,
  "nbformat_minor": 0,
  "metadata": {
    "colab": {
      "name": "Practice1.ipynb",
      "version": "0.3.2",
      "provenance": [],
      "collapsed_sections": [],
      "toc_visible": true,
      "include_colab_link": true
    },
    "kernelspec": {
      "name": "python3",
      "display_name": "Python 3"
    },
    "accelerator": "GPU"
  },
  "cells": [
    {
      "cell_type": "markdown",
      "metadata": {
        "id": "view-in-github",
        "colab_type": "text"
      },
      "source": [
        "<a href=\"https://colab.research.google.com/github/abhishekpadghane/demo/blob/master/XOR%20Classification%20ANN.ipynb\" target=\"_parent\"><img src=\"https://colab.research.google.com/assets/colab-badge.svg\" alt=\"Open In Colab\"/></a>"
      ]
    },
    {
      "metadata": {
        "id": "TH7no-hDNUCE",
        "colab_type": "code",
        "colab": {}
      },
      "cell_type": "code",
      "source": [
        "import numpy as np\n",
        "import matplotlib.pyplot as plt\n",
        "from matplotlib import pylab\n",
        "fig = plt.figure()\n",
        "%matplotlib inline"
      ],
      "execution_count": 0,
      "outputs": []
    },
    {
      "metadata": {
        "id": "xQ6d550k-Opj",
        "colab_type": "text"
      },
      "cell_type": "markdown",
      "source": [
        "# XOR Classification Problem\n",
        "In this, i will demostrate XOR gate problem, why **Single Layer Perceptron** can't clasify this kind of data and the solution we got using ** Multi Layer Perceptron**."
      ]
    },
    {
      "metadata": {
        "id": "IO0mhY8I_CWz",
        "colab_type": "text"
      },
      "cell_type": "markdown",
      "source": [
        "**SLP** are used to classify **Linearly Seperable data** like classifying labels using a **Line**. But XOR gate output is **not Linearly Separable**. Thats why we need to use a **MLP** which has atleast one **Hidden Layer** responsible of classifying **non linearly separable** data."
      ]
    },
    {
      "metadata": {
        "id": "A18Fl5sa_-Bk",
        "colab_type": "code",
        "outputId": "271946f8-b6f6-4045-d57a-64f8dc90f476",
        "colab": {
          "base_uri": "https://localhost:8080/",
          "height": 294
        }
      },
      "cell_type": "code",
      "source": [
        "# Creating Input Matrix X, Output vector y.\n",
        "# XOR gate output is 0,1,1,0 for combinations (0,0), (0,1), (1,0), (1,1)\n",
        "\n",
        "X = np.array([[0,0,1,1], [0,1,0,1]]).reshape(2,-1).T\n",
        "y = np.array([0,1,1,0]).reshape(-1,1)\n",
        "\n",
        "# Ploting the values\n",
        "\n",
        "plt.plot(X.T[0], X.T[1], 'o')\n",
        "plt.xlabel('A')\n",
        "plt.ylabel('B')\n",
        "plt.title('Plotting Outputs of XOR gate')\n",
        "fig.canvas.draw()"
      ],
      "execution_count": 101,
      "outputs": [
        {
          "output_type": "display_data",
          "data": {
            "image/png": "[encoded data removed]",
            "text/plain": [
              "<Figure size 432x288 with 1 Axes>"
            ]
          },
          "metadata": {
            "tags": []
          }
        }
      ]
    },
    {
      "metadata": {
        "id": "Pu4V7dHaBBuo",
        "colab_type": "code",
        "colab": {}
      },
      "cell_type": "code",
      "source": [
        "# Creating Weights, we have two sets of Weights because we have one Hidden layer\n",
        "# Coz we have 2 inputs units on our Input layer and 2 hidden units on our Hidden layer,\n",
        "# so, our weights for hidden layer is 2x2 = 4\n",
        "# Note, Weights are Random Initialization, in my case iam picking random samples from Uniform Distribution,\n",
        "# its not neccesary to pick from below distribution, any random value is applicable\n",
        "\n",
        "Weights_HL = np.random.uniform(size=(2,2))\n",
        "\n",
        "# As i mention we have one hidden layer, it means two sets of Weights,\n",
        "# Weights for hidden layer is done, now i will create weights for output layer\n",
        "# we have 1 output but 2 hidden units in our hidden layer, thats why output layer weights are 2x1 = 2\n",
        "\n",
        "Weights_OL = np.random.uniform(size=(2,1))\n",
        "\n",
        "# Actual function for each neuron is W.TX + b in which b is bias (intercept)\n",
        "# so we need to create bias\n",
        "# first i will create bias for hidden layer\n",
        "# number of bias depends on output to the another layer\n",
        "# for hidden layer, we have 2 hidden layer units, so bias for hidden layer is 2\n",
        "# Note, most of the cases bias is 1, but it can be any random assingnment\n",
        "\n",
        "Bias_HL = np.random.uniform(size=(2,1))\n",
        "\n",
        "# for output layer, we have 1 output, so bias is 1\n",
        "\n",
        "Bias_OL = np.random.uniform(size=(1,1))\n",
        "\n",
        "# creating hidden layer. we have 1 hideen layer with 2 hidden units,\n",
        "# therefore size of hidden layer is 2x1 = 2\n",
        "# Note, hiden layer stores activation(W.TX + b), for initializaion, assing with any number\n",
        "\n",
        "Hidden_Layer = np.random.uniform(size=(2,1))\n",
        "\n",
        "# creating output layer. we have 1 output unit (y predicted/estimated) in output layer,\n",
        "# therefore size of output layer is 1\n",
        "# Note, output layer stores activation(W.TH + b), for initializaion, assing with any number\n",
        "\n",
        "Output_Layer = np.random.uniform(size=(1,1))"
      ],
      "execution_count": 0,
      "outputs": []
    },
    {
      "metadata": {
        "id": "DOT0vB_9SEkE",
        "colab_type": "text"
      },
      "cell_type": "markdown",
      "source": [
        "## Feedforward Step\n",
        "In this **Activated weighted sum** which is output of a layer is passed as input to the another layer. For first hidden layer, inputs are actual rows X corresponding to there y.\n",
        "\n",
        "##Activation Funtion\n",
        "Activation function is used to generate value for neuron which helps to classify the data. If Activation function is not given, then the model becomes **Regression model** in which relationship between X and y is figured, specially in the case of **continues data**.\n",
        "\n",
        "Here we have classification problem, thats why we need a activation function. In this case, i am using **Sigmoid function** which penalize the input given to it into a probability ranging from 0 to 1."
      ]
    },
    {
      "metadata": {
        "id": "oSxf2WF6T143",
        "colab_type": "code",
        "colab": {}
      },
      "cell_type": "code",
      "source": [
        "# creating Activation function which in my case i am using is sigmoid, its defined as (1 + e ** (-x)) ** -1\n",
        "# Derivative of Sigmoid is sigmoid(x) * (1 - sigmoid(x))\n",
        "\n",
        "def Sigmoid(x, diff=0):\n",
        "  if diff == 1:\n",
        "    return np.multiply(Sigmoid(x), np.subtract(1, Sigmoid(x)))\n",
        "  \n",
        "  return np.divide(1, np.add(1, np.exp(-x)))\n",
        "\n",
        "# Note, output of Sigmoid is between 0 and 1\n",
        "# Note, any other activation function is also applicable"
      ],
      "execution_count": 0,
      "outputs": []
    },
    {
      "metadata": {
        "id": "4CRtTd6RUU_F",
        "colab_type": "code",
        "colab": {}
      },
      "cell_type": "code",
      "source": [
        "# creating feedforward step for neural network\n",
        "# functionality of this step is alredy discussed above in hidden and output layer\n",
        "\n",
        "def Feedforward(X, W_HL, W_OL, B_HL, B_OL):\n",
        "  HL = Sigmoid(W_HL.T.dot(X) + B_HL)\n",
        "  OL = Sigmoid(W_OL.T.dot(HL) + B_OL)\n",
        "  return HL, OL"
      ],
      "execution_count": 0,
      "outputs": []
    },
    {
      "metadata": {
        "id": "bZDWOAnOYl4i",
        "colab_type": "text"
      },
      "cell_type": "markdown",
      "source": [
        "## Backpropagation step\n",
        "\n",
        "In backpropagation, the weights of our network are adjusted while **minimizing the loss** of the model. Loss is error noted as difference between actual and predicted/estimated.\n",
        "\n",
        "The algorithm used for adjusting the weights is **Gradient descent** in which we derive the derivative because we need slope of loss function to go the loss where loss is closer to zero.\n",
        "\n",
        "The amount of iteration it requires for reaching to minimum loss is called **Traing iterations** or **epochs**.\n",
        "\n",
        "The amount of step or fraction which is used to approximate the minimum loss is called **Learning rate** or **step size** dinoted by alpha or eita. "
      ]
    },
    {
      "metadata": {
        "id": "Xapi0nLoXjIr",
        "colab_type": "code",
        "colab": {}
      },
      "cell_type": "code",
      "source": [
        "# creating backpropagation step for neural network\n",
        "# we will first update weights and biases of output layer then of the hidden layer\n",
        "# because its in reverse fashion, therefore updation of output layer weights and bias comes first\n",
        "\n",
        "def Backpropagation(X, y, W_HL, W_OL, B_HL, B_OL, HL, OL, alpha, epochs):\n",
        "  \n",
        "  # Error is Original minus predicted, in our model output layer has predicted value\n",
        "  \n",
        "  for i in range(epochs):\n",
        "    \n",
        "    # First we need results of hidden and output layer, therefore we are using feedforward\n",
        "    \n",
        "    HL, OL = Feedforward(X, W_HL, W_OL, B_HL, B_OL)\n",
        "    \n",
        "    # Calculating error, delta for Output layer weights and updating output layer bias\n",
        "    \n",
        "    Error = y - OL\n",
        "    Delta_W_OL = np.multiply(Error, Sigmoid(OL, diff=1))\n",
        "    B_OL += np.multiply(Error, alpha)\n",
        "    \n",
        "    # Calculating error, delta for Hidden layer weights and updating hidden layer bias\n",
        "    \n",
        "    Error = Delta_W_OL.dot(W_OL.T)\n",
        "    Delta_W_HL = np.multiply(Error.T, Sigmoid(HL, diff=1))\n",
        "    B_HL += np.multiply(Error.T, alpha)\n",
        "    \n",
        "    # Ealuating dot product with the inputs to the hidden and output layer\n",
        "    \n",
        "    Adjust_W_HL = X.dot(Delta_W_HL.T)\n",
        "    Adjust_W_OL = HL.dot(Delta_W_OL)\n",
        "    \n",
        "    # Updating both the weights\n",
        "  \n",
        "    W_HL += np.multiply(Adjust_W_HL, alpha)\n",
        "    W_OL += np.multiply(Adjust_W_OL, alpha)\n",
        "    \n",
        "  return W_HL, W_OL, B_HL, B_OL"
      ],
      "execution_count": 0,
      "outputs": []
    },
    {
      "metadata": {
        "id": "qlOQMmy_C1U0",
        "colab_type": "code",
        "colab": {
          "base_uri": "https://localhost:8080/",
          "height": 85
        },
        "outputId": "61f1d6b9-ed20-4498-d995-8dad6e2ae6eb"
      },
      "cell_type": "code",
      "source": [
        "# Passing the dataset and checking the predictions\n",
        "# Note, alpha and epochs are hyperparameters which are selected by hit and trial \n",
        "\n",
        "alpha = 0.001\n",
        "epochs = 7000\n",
        "\n",
        "# For every X and y , we will train our neural network upto epochs \n",
        "\n",
        "for i in range(X.shape[0]):\n",
        "  \n",
        "  # Extracting X and y according to index (eg. if i equals 1 then X is [0,1] and y is [1])\n",
        "  \n",
        "  X_ = X[i].reshape(-1,1)\n",
        "  y_ = y[i].reshape(-1,1)\n",
        "  \n",
        "  # Calling Backpropagation for training the model\n",
        "  # it will return weights and biases adjusted according to epochs and the decresed loss\n",
        "  \n",
        "  Weights_HL, Weights_OL, Bias_HL, Bias_OL, = Backpropagation(X_, y_, Weights_HL, Weights_OL, Bias_HL, Bias_OL, Hidden_Layer, Output_Layer, alpha, epochs)\n",
        "  \n",
        "  # to get predicted value, we need forward pass, or activated result\n",
        "  # for that forward pass is called which will provide predicted value according to the addjusted weights and biases\n",
        "  \n",
        "  HL, OL = Feedforward(X_, Weights_HL, Weights_OL, Bias_HL, Bias_OL)\n",
        "  \n",
        "  # printing the result\n",
        "  \n",
        "  print('X :', X_[0][0],' ',X_[1][0], ' y ', y_[0][0], ' y predicted ',OL[0][0])"
      ],
      "execution_count": 97,
      "outputs": [
        {
          "output_type": "stream",
          "text": [
            "X : 0   0  y  0  y predicted  0.008817584715394561\n",
            "X : 0   1  y  1  y predicted  0.7385322014849243\n",
            "X : 1   0  y  1  y predicted  0.9057911465483289\n",
            "X : 1   1  y  0  y predicted  0.17250082215477497\n"
          ],
          "name": "stdout"
        }
      ]
    },
    {
      "metadata": {
        "id": "mGp-EU8pezN5",
        "colab_type": "text"
      },
      "cell_type": "markdown",
      "source": [
        "# Conclusion\n",
        "\n",
        "As we can see, training upto 7000 iteration, our model is giving good results. Remember, if iteration are increased, we will get result closest to actual target value (original y)."
      ]
    },
    {
      "metadata": {
        "id": "8usfMa6NfDgS",
        "colab_type": "code",
        "colab": {}
      },
      "cell_type": "code",
      "source": [
        ""
      ],
      "execution_count": 0,
      "outputs": []
    }
  ]
}